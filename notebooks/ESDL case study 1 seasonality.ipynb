{
 "cells": [
  {
   "outputs": [],
   "cell_type": "markdown",
   "source": [
    "## Case study 1: Seasonal dynamics on the land surface\n",
    "### Based on simple seasonal statistics\n",
    "\n",
    "#### Miguel D. Mahecha, Fabian Gans et al. (correspondence to: mmahecha@bgc-jena.mpg.de and fgans@bgc-jena.mpg.de)\n",
    "\n",
    "* Notebook to reproduce and understand examples in the paper *Earth system data cubes unravel global multivariate dynamics* (sub.).\n",
    "\n",
    "* The NB is written based on Julia 1.1\n",
    "\n",
    "* Normal text are explanations referring to notation and equations in the paper\n",
    "\n",
    "* `# comments in the code are itended explain specific aspects of the coding`\n",
    "\n",
    "* ### New steps in workflows are introduced with bold headers\n",
    "\n",
    "Sept 2019, Max Planck Institute for Biogeochemistry, Jena, Germany"
   ],
   "metadata": {}
  },
  {
   "outputs": [],
   "cell_type": "markdown",
   "source": [
    "### Load required packages"
   ],
   "metadata": {}
  },
  {
   "outputs": [],
   "cell_type": "code",
   "source": [
    "# for plotting later on (need to be loaded first, to avoid conflicts)\n",
    "using PyCall, PyPlot, PlotUtils\n",
    "\n",
    "# for operating the Earth system data lab\n",
    "using ESDL\n",
    "\n",
    "# for parallel computing\n",
    "using Distributed"
   ],
   "metadata": {},
   "execution_count": null
  },
  {
   "outputs": [],
   "cell_type": "markdown",
   "source": [
    "Next we get a handle to the Earth System Data Cube we want to use, which provides a description of the cube:"
   ],
   "metadata": {}
  },
  {
   "outputs": [],
   "cell_type": "code",
   "source": [
    "cube_handle = Cube(\"../data/subcube\")"
   ],
   "metadata": {},
   "execution_count": null
  },
  {
   "outputs": [],
   "cell_type": "markdown",
   "source": [
    "Check which variables are avaiable in the data cube:"
   ],
   "metadata": {}
  },
  {
   "outputs": [],
   "cell_type": "code",
   "source": [
    "cubeinfo(cube_handle)"
   ],
   "metadata": {},
   "execution_count": null
  },
  {
   "outputs": [],
   "cell_type": "code",
   "source": [
    "# if we want the names of the variables:\n",
    "println(getAxis(\"Var\", cube_handle).values)"
   ],
   "metadata": {},
   "execution_count": null
  },
  {
   "outputs": [],
   "cell_type": "markdown",
   "source": [
    "We decide which variables to plot:"
   ],
   "metadata": {}
  },
  {
   "outputs": [],
   "cell_type": "code",
   "source": [
    "vars = [\"gross_primary_productivity\", \"air_temperature_2m\", \"surface_moisture\"]"
   ],
   "metadata": {},
   "execution_count": null
  },
  {
   "outputs": [],
   "cell_type": "markdown",
   "source": [
    "So we \"virtually get\" the cube data virually:"
   ],
   "metadata": {}
  },
  {
   "outputs": [],
   "cell_type": "code",
   "source": [
    "cube_subset = subsetcube(cube_handle, variable = vars)"
   ],
   "metadata": {},
   "execution_count": null
  },
  {
   "outputs": [],
   "cell_type": "code",
   "source": [
    "# The next step requires a bit of CPU -> add some parallel processors:\n",
    "addprocs(4)"
   ],
   "metadata": {},
   "execution_count": null
  },
  {
   "outputs": [],
   "cell_type": "markdown",
   "source": [
    "The next function estimates the median seasonal cycle. This changes the dimension of the cube, as the time domain is replaced by day of year (doy); Eq. 9 in the manuscript:\n",
    "$$\n",
    "    f_{\\{time\\}}^{\\{doy\\}} : \\mathcal{C}(\\{lat, lon, time, var\\}) \\rightarrow \\mathcal{C}(\\{lat, lon, doy, var\\})\n",
    "$$"
   ],
   "metadata": {}
  },
  {
   "outputs": [],
   "cell_type": "code",
   "source": [
    "# median seasonal cycle built-in function\n",
    "cube_msc = getMedSC(cube_subset)"
   ],
   "metadata": {},
   "execution_count": null
  },
  {
   "outputs": [],
   "cell_type": "markdown",
   "source": [
    "The resulting cube `cube_msc` has is of the form $\\mathcal{C}(\\{lat, lon, doy, var\\})$. On this cube we want to apply function `nan_med` (see below) to estimate latitudinal averages for all variables. The atomic function (Eq. 10) needs to have the form, i.e. expecting a longitude and returning a scalar:\n",
    "$$\n",
    "    f_{\\{lon\\}}^{\\{\\}} : \\mathcal{C}(\\{lat, lon, doy, var\\}) \\rightarrow \\mathcal{C}(\\{lat, doy, var\\})\n",
    "$$"
   ],
   "metadata": {}
  },
  {
   "outputs": [],
   "cell_type": "code",
   "source": [
    "# The median function; the @everywhere brings the contents to each core\n",
    "@everywhere import Statistics.median\n",
    "\n",
    "# Applied to the dimension \"Lon\"\n",
    "cube_msc_lat = mapslices(median ∘ skipmissing, cube_msc, dims = \"Lon\")"
   ],
   "metadata": {},
   "execution_count": null
  },
  {
   "outputs": [],
   "cell_type": "code",
   "source": [
    "# Now the hard work is done and we can remove the workers\n",
    "rmprocs(workers())"
   ],
   "metadata": {},
   "execution_count": null
  },
  {
   "outputs": [],
   "cell_type": "markdown",
   "source": [
    "The result of each operation on a data cube is a data cube. Here the resulting cube has the form $\\mathcal{C}(\\{doy, lat, var\\})$\n",
    "as expected but in different order, which is, irrelevant as axes have no natural order."
   ],
   "metadata": {}
  },
  {
   "outputs": [],
   "cell_type": "markdown",
   "source": [
    "### Visualization\n",
    "\n",
    "At this point we leave the `ESDL` and and go for visualizations. Using PyPlot we can generate fig. 3 of the paper, the data can be exatracted from the resutls cube via array-access `A[:, :]`."
   ],
   "metadata": {}
  },
  {
   "outputs": [],
   "cell_type": "code",
   "source": [
    "# Create a plot and make it a polar plot\n",
    "function zonal_polar_plot(d_msc_lat, sbp, it, vari, lab)\n",
    "\n",
    "    ax = subplot(sbp, polar = \"true\")\n",
    "    ourcmap = ColorMap(get_cmap(\"Spectral_r\", 720))\n",
    "\n",
    "    # set polar ticks and labels\n",
    "    month_ang = 0:11\n",
    "    month_ang = month_ang .* (360/12)\n",
    "    month_lab = [\"Jan\"; \"Feb\"; \"Mar\"; \"Apr\"; \"May\"; \"Jun\"; \"Jul\"; \"Aug\"; \"Sep\"; \"Oct\"; \"Nov\"; \"Dec\"]\n",
    "\n",
    "    # tuning\n",
    "    ax.set_yticklabels([])\n",
    "    ax.set_thetagrids(angles = month_ang,\n",
    "                      labels = month_lab,\n",
    "                      rotation = month_ang)\n",
    "\n",
    "    # set Jan to the top of the plot\n",
    "    ax.set_theta_zero_location(\"N\")\n",
    "\n",
    "    # switch to clockwise\n",
    "    ax.set_theta_direction(-1)\n",
    "\n",
    "    ######## color setup\n",
    "    if isequal(vari, \"gross_primary_productivity\")\n",
    "        N_min = 0\n",
    "        N_max = 8\n",
    "        N_var = 8\n",
    "    elseif isequal(vari, \"air_temperature_2m\")\n",
    "        N_min = -35\n",
    "        N_max = 35\n",
    "        N_var = 15\n",
    "    elseif isequal(vari, \"surface_moisture\")\n",
    "        N_min = 0\n",
    "        N_max = 50\n",
    "        N_var = 10\n",
    "    end\n",
    "\n",
    "    ######## background setup\n",
    "\n",
    "    # define time (all could be done more elegantly in julia I guess... )\n",
    "    time_ang = range(0, stop = 12, step = 0.25)\n",
    "    N_time   = length(time_ang)\n",
    "    time_ang = time_ang .* (360/12)\n",
    "    time_rad = time_ang .* (pi / 180)\n",
    "\n",
    "    # create a continous var for the background\n",
    "    N_div  = N_time*10\n",
    "    y      = range(N_min, stop = N_max, length = N_div)\n",
    "\n",
    "    # grid to fill the polar plot\n",
    "    xgrid  = repeat(time_rad', N_div, 1)\n",
    "    ygrid  = repeat(y, 1, N_time)\n",
    "\n",
    "    # a grid of NaNs to make an extra colorbar later\n",
    "    nangrid  = zeros(size(ygrid)).*NaN\n",
    "    levels   = range(-90, stop = 90, step = 10)\n",
    "    ticks    = range(-80, stop = 80, step = 20)\n",
    "\n",
    "    axsurf2 = ax.contourf(xgrid, ygrid, ygrid.*NaN, N_max,\n",
    "                          cmap = ourcmap,\n",
    "                          levels = levels,\n",
    "                          ticks = ticks)\n",
    "\n",
    "    # background to the range of values\n",
    "    if isequal(vari, \"gross_primary_productivity\")\n",
    "        axsurf = ax.contourf(xgrid, ygrid, ygrid, N_max,\n",
    "                         cmap = ColorMap(\"gray_r\"),\n",
    "                         extend = \"max\")\n",
    "    elseif isequal(vari, \"air_temperature_2m\")\n",
    "        axsurf = ax.contourf(xgrid, ygrid, ygrid, N_max,\n",
    "                         cmap = ColorMap(\"gray_r\"),\n",
    "                         extend = \"both\")\n",
    "    elseif isequal(vari, \"surface_moisture\")\n",
    "        axsurf = ax.contourf(xgrid, ygrid, ygrid, N_max,\n",
    "                         cmap = ColorMap(\"gray_r\"),\n",
    "                         extend = \"max\")\n",
    "    end\n",
    "\n",
    "    #### colorbar setup\n",
    "    if isodd(sbp)\n",
    "        # add forground colorbar\n",
    "        cban = colorbar(axsurf2, fraction = 0.05, shrink = 0.5, pad = 0.18)\n",
    "        cban.ax.set_title(label = \"Latitude\")\n",
    "        cban.set_ticks([-80, -60, -40, -20, 0, 20, 40, 60, 80])\n",
    "        cban.set_ticklabels([\"80°N\", \"60°N\", \"40°N\", \"20°N\", \"0°\", \"20°S\", \"40°S\", \"60°S\", \"80°S\"])\n",
    "        cban.ax.invert_yaxis()\n",
    "    else\n",
    "        # add background colorbar\n",
    "        cbsurf = colorbar(axsurf, fraction = 0.05, shrink = 0.5, pad = 0.18)\n",
    "        if  vari == \"gross_primary_productivity\"\n",
    "            cbsurf.ax.set_title(label = \"GPP\")\n",
    "            cbsurf.set_label(label = \"g C / (m2 d)\", rotation=270, labelpad=+20)\n",
    "        elseif vari == \"air_temperature_2m\"\n",
    "            cbsurf.ax.set_title(label = \"Tair\")\n",
    "            cbsurf.set_label(label = \"°C\", rotation = 270, labelpad=+20)\n",
    "        elseif vari == \"surface_moisture\"\n",
    "            cbsurf.ax.set_title(label = \"Surf. Moist.\")\n",
    "            cbsurf.set_label(label = \"[]\", rotation = 270, labelpad=+20)\n",
    "            cbsurf.set_ticks([0, 10, 20, 30, 40, 50])\n",
    "            cbsurf.set_ticklabels([\"0\", \"0.1\", \"0.2\", \"0.3\", \"0.4\", \"0.5\"])\n",
    "        end\n",
    "    end\n",
    "\n",
    "    ######## forground setup\n",
    "\n",
    "    # plot the real data\n",
    "    N_msc = size(d_msc_lat)[1]\n",
    "    time_ang_dat = range(1/N_msc, step = 1/N_msc, length = N_msc)\n",
    "    time_ang_dat = time_ang_dat .* (360)\n",
    "    time_rad_dat = time_ang_dat .* (pi / 180)\n",
    "    time_rad_dat = [time_rad_dat; time_rad_dat[1]]\n",
    "\n",
    "    # add your data\n",
    "    for j = it\n",
    "      jj = convert(Int, j)\n",
    "      try\n",
    "      var_idx = findall(vari .== getAxis(VariableAxis, d_msc_lat).values)[1]\n",
    "      ts = d_msc_lat[:, jj, var_idx]\n",
    "      va = [ts; ts[1]]\n",
    "      # correction for temperature\n",
    "      if isequal(vari, \"air_temperature_2m\")\n",
    "        va = va.-273.15\n",
    "      elseif isequal(vari, \"surface_moisture\")\n",
    "        va = va.*100\n",
    "      end\n",
    "      p  = ax.plot(time_rad_dat, va,\n",
    "      color = ourcmap(jj),\n",
    "      linewidth = 0.8)\n",
    "      catch\n",
    "      end\n",
    "    end\n",
    "\n",
    "    ##ax.annotate(lab,\n",
    "     #       xy = (thistheta, thisr),  ## theta, radius\n",
    "      #      xytext=(0.05, 0.05),    ## fraction, fraction\n",
    "       #     textcoords='figure fraction',\n",
    "        #    arrowprops=dict(facecolor='black', shrink=0.05),\n",
    "         #   horizontalalignment='left',\n",
    "          #  verticalalignment='bottom',\n",
    "           # )\n",
    "end"
   ],
   "metadata": {},
   "execution_count": null
  },
  {
   "outputs": [],
   "cell_type": "code",
   "source": [
    "# create a new figure\n",
    "figure(\"polar_lineplot\", figsize = (10, 15))\n",
    "\n",
    "# get the latitude values for which we have data\n",
    "L = collect(getAxis(LatAxis, caxes(cube_msc_lat)).values)\n",
    "\n",
    "sbps = 321:2:332\n",
    "labtoshow = [\"a)\", \"b)\", \"c)\", \"d)\", \"e)\", \"f)\"]\n",
    "\n",
    "for (sbp, lab, vari) in zip(sbps,labtoshow,getAxis(VariableAxis, caxes(cube_msc_lat)).values)\n",
    "\n",
    "  it1 = range(720/2, stop = 1, step = -2)\n",
    "  it2 = range(720/2+1, stop = 720, step = 2)\n",
    "\n",
    "  zonal_polar_plot(cube_msc_lat, sbp, it1, vari, lab)\n",
    "  zonal_polar_plot(cube_msc_lat, sbp+1, it2, vari, lab)\n",
    "\n",
    "end\n",
    "\n",
    "mkpath(\"../figures\")\n",
    "savefig(\"../figures/zonalmeans.png\",\n",
    "        bbox_inches = \"tight\");"
   ],
   "metadata": {},
   "execution_count": null
  },
  {
   "outputs": [],
   "cell_type": "markdown",
   "source": [
    "*This notebook was generated using [Literate.jl](https://github.com/fredrikekre/Literate.jl).*"
   ],
   "metadata": {}
  }
 ],
 "nbformat_minor": 3,
 "metadata": {
  "language_info": {
   "file_extension": ".jl",
   "mimetype": "application/julia",
   "name": "julia",
   "version": "1.3.0-rc5.1"
  },
  "kernelspec": {
   "name": "julia-1.3",
   "display_name": "Julia 1.3.0-rc5.1",
   "language": "julia"
  }
 },
 "nbformat": 4
}
