{
 "cells": [
  {
   "outputs": [],
   "cell_type": "markdown",
   "source": [
    "## Case study 3: Model-parameter estimation in the ESDL\n",
    "### Example of the temperature sensitivity of ecosystem respiration\n",
    "\n",
    "#### Miguel D. Mahecha, Fabian Gans et al. (correspondence to: mmahecha@bgc-jena.mpg.de and fgans@bgc-jena.mpg.de)\n",
    "\n",
    "* Notebook to reproduce and understand examples in the paper *Earth system data cubes unravel global multivariate dynamics* (sub.).\n",
    "\n",
    "* The NB is written based on Julia 1.2\n",
    "\n",
    "* Normal text are explanations referring to notation and equations in the paper\n",
    "\n",
    "* `# comments in the code are intended explain specific aspects of the coding`\n",
    "\n",
    "* ### New steps in workflows are introduced with bold headers\n",
    "\n",
    "Sept 2019, Max Planck Institute for Biogeochemistry, Jena, Germany"
   ],
   "metadata": {}
  },
  {
   "outputs": [],
   "cell_type": "code",
   "source": [
    "# for plotting later on (need to be loaded first, to avoid conflicts)\n",
    "using PyCall, PyPlot, PlotUtils\n",
    "\n",
    "# for operating the Earth system data lab\n",
    "using ESDL, ESDLPlots\n",
    "\n",
    "# other relevant packages\n",
    "using Statistics"
   ],
   "metadata": {},
   "execution_count": null
  },
  {
   "outputs": [],
   "cell_type": "markdown",
   "source": [
    "### Select and subet an Earth system data cube\n",
    "\n",
    "We need to choose a cube and here select a 8-dayily, 0.25° resolution global cube. The cube name suggests it is chunked such that we have one time chunk and 720x1440 spatial chunks"
   ],
   "metadata": {}
  },
  {
   "outputs": [],
   "cell_type": "code",
   "source": [
    "cube_handle = Cube(\"../data/subcube\")"
   ],
   "metadata": {},
   "execution_count": null
  },
  {
   "outputs": [],
   "cell_type": "markdown",
   "source": [
    "In this case it is better to have one cube for the Tair and one for terrestrial ecosystem respiration R$_{eco}$"
   ],
   "metadata": {}
  },
  {
   "outputs": [],
   "cell_type": "code",
   "source": [
    "world_tair = subsetcube(cube_handle, variable = \"air_temperature_2m\", time = 2001:2012)\n",
    "world_resp = subsetcube(cube_handle, variable = \"terrestrial_ecosystem_respiration\", time = 2001:2012)"
   ],
   "metadata": {},
   "execution_count": null
  },
  {
   "outputs": [],
   "cell_type": "markdown",
   "source": [
    "The objective is to estimate  $Q_{10}$ from the decomposed time series. For details we refere the reader to\n",
    "Mahecha, M.D. et al. (2010) *Global convergence in the temperature sensitivity of respiration at ecosystem level.* Science, 329, 838-840.\n",
    "\n",
    "The first step is to transformation of both variables, so that the $Q_{10}$ model becomes linear and Tair the exponent:"
   ],
   "metadata": {}
  },
  {
   "outputs": [],
   "cell_type": "code",
   "source": [
    "# Element-wise transformations using `map` are done in a lazy manner, so the\n",
    "# transformation will be applied only when the data is read or further processed\n",
    "world_τ = map(tair -> (tair - (273.15+15))/10, world_tair)\n",
    "world_ρ = map(log, world_resp)\n",
    "\n",
    "# ... and we combine them into a Data Cube again\n",
    "world_new = concatenateCubes(τ=world_τ, ρ=world_ρ)"
   ],
   "metadata": {},
   "execution_count": null
  },
  {
   "outputs": [],
   "cell_type": "markdown",
   "source": [
    "### Function we need: moving average for decomposition\n",
    "\n",
    "First we need a function for time-series filtering. Using a moving average filter is the simplest way to decomposes a singal into fast and slow oscillations by caluclating a moving average over a window of points. This creates a smoothed curve (slow osc.) which can be subtracted from the original singlal to obtain fast oscillations separately. We could halve likewise used FFTs, SSA, EMD, or any other method for discrete time-series decomposition."
   ],
   "metadata": {}
  },
  {
   "outputs": [],
   "cell_type": "code",
   "source": [
    "# Moving Average decomposes a singal into fast and slow oscillations\n",
    "# by caluclating a moving average over a window of points.\n",
    "# This creates a smoothed curve (slow osc.) which can be subtracted from the original singla,\n",
    "# to obtain fast oscillations separately.\n",
    "function movingAverage(xout, xin; windowsize = 4)\n",
    "    Z     = length(xin)\n",
    "    # calculate moving average over window\n",
    "    # truncating windows for data points at beginning and end\n",
    "    movAv = map(1:Z) do i\n",
    "        r = max(1,i-windowsize):min(i+windowsize,Z)\n",
    "        mean(view(xin,r))\n",
    "    end\n",
    "    # return slow oscillations in col 1 and fast oscillations in col 2\n",
    "    xout[:,1] .= movAv\n",
    "    xout[:,2] .= xin .- movAv\n",
    "    return xout\n",
    "end"
   ],
   "metadata": {},
   "execution_count": null
  },
  {
   "outputs": [],
   "cell_type": "code",
   "source": [
    "##We define the input and output dimensions for the decomposition\n",
    "indims  = InDims(\"Time\")\n",
    "outdims = OutDims(\"Time\", CategoricalAxis(\"Scale\",[\"Slow\",\"Fast\"]))\n",
    "cube_decomp = mapCube(movingAverage, world_new, indims=indims, outdims=outdims)"
   ],
   "metadata": {},
   "execution_count": null
  },
  {
   "outputs": [],
   "cell_type": "markdown",
   "source": [
    "### For estimating the temperature sensitivities\n",
    "\n",
    "The classical $Q_{10}$ estimation could be realized with the following function"
   ],
   "metadata": {}
  },
  {
   "outputs": [],
   "cell_type": "code",
   "source": [
    "function Q10direct(xout_Q10, xout_rb, xin)\n",
    "    τ, ρ = eachcol(xin)\n",
    "    # solve the regression\n",
    "    b    = cor(τ, ρ)*std(ρ)/std(τ)\n",
    "    a    = mean(ρ) - b*mean(τ)\n",
    "\n",
    "    Q10  = exp(b)\n",
    "    Rb   = exp(a)\n",
    "    ##The returned Rb is a constant time series\n",
    "    xout_rb .= Rb\n",
    "    xout_Q10 .= Q10\n",
    "end"
   ],
   "metadata": {},
   "execution_count": null
  },
  {
   "outputs": [],
   "cell_type": "markdown",
   "source": [
    "For the scale dependent parameter estimation, the function is a bit more complex. And the numbers in the code comment refer to the  supporting online materials in Mahecha et al. (2010)"
   ],
   "metadata": {}
  },
  {
   "outputs": [],
   "cell_type": "code",
   "source": [
    "function Q10SCAPE(xout_Q10, xout_rb, xin)\n",
    "    # xin is now a 3D array with dimensions Time x Scale x Variable\n",
    "    τ_slow = xin[:, 1, 1]\n",
    "    τ_fast = xin[:, 2, 1]\n",
    "    ρ_slow = xin[:, 1, 2]\n",
    "    ρ_fast = xin[:, 2, 2]\n",
    "    τ      = τ_slow + τ_fast\n",
    "    ρ      = ρ_slow + ρ_fast\n",
    "\n",
    "    # EQ S5\n",
    "    # Q10 calculated on fast oscillations only\n",
    "    d    = cor(τ_fast, ρ_fast)*std(ρ_fast)/std(τ_fast)\n",
    "    c    = mean(ρ_fast) - d*mean(τ_fast)\n",
    "    Q10  = exp(d)\n",
    "\n",
    "    # EQ S6: Influence of low frequency temperature on Rb\n",
    "    ρ_sc = (τ_slow .+ mean(τ)) .* d\n",
    "\n",
    "    # EQ S7: Time varying estimate for Rb\n",
    "    ρ_b  = ρ_slow .+ mean(ρ) .- ρ_sc\n",
    "    Rb_b  = exp.(ρ_b)\n",
    "\n",
    "    xout_Q10 .= Q10\n",
    "    xout_rb  .= Rb_b\n",
    "end"
   ],
   "metadata": {},
   "execution_count": null
  },
  {
   "outputs": [],
   "cell_type": "markdown",
   "source": [
    "### Application of these functions on the prepared cubes"
   ],
   "metadata": {}
  },
  {
   "outputs": [],
   "cell_type": "code",
   "source": [
    "indims_q10 = InDims(\"Time\",\"Var\")\n",
    "outdims_q10 = OutDims() ## Just a single number, the first output cube\n",
    "outdims_rb = OutDims(\"Time\") ## The Rb time series, the second output cube\n",
    "q10_direct, rb_direct = mapCube(Q10direct, world_new, indims=indims_q10, outdims=(outdims_q10, outdims_rb))"
   ],
   "metadata": {},
   "execution_count": null
  },
  {
   "outputs": [],
   "cell_type": "markdown",
   "source": [
    "For the SCAPE approach, the parameter estimation on the decomposed appraoch is then"
   ],
   "metadata": {}
  },
  {
   "outputs": [],
   "cell_type": "code",
   "source": [
    "indims_scape = InDims(\"Time\",\"Scale\",\"Var\",filter=ESDL.DAT.AnyMissing())\n",
    "q10_scape, rb_scape = mapCube(Q10SCAPE,cube_decomp, indims=indims_scape, outdims=(outdims_q10, outdims_rb))"
   ],
   "metadata": {},
   "execution_count": null
  },
  {
   "outputs": [],
   "cell_type": "markdown",
   "source": [
    "### The rest is plotting\n",
    "Including some additional analyses, not included in the paper"
   ],
   "metadata": {}
  },
  {
   "outputs": [],
   "cell_type": "code",
   "source": [
    "function plot_robin(titulo, DAT, clbtitle;\n",
    "        cm = ColorMap(get_cmap(\"GnBu\", 100)),\n",
    "        dmin=minimum(skipmissing(DAT)),\n",
    "        dmax=maximum(skipmissing(DAT)),\n",
    "        spl = (1,1,1),\n",
    "    )\n",
    "\n",
    "    ccrs = pyimport_conda(\"cartopy.crs\",\"cartopy\")\n",
    "    feat = pyimport_conda(\"cartopy.feature\",\"cartopy\")\n",
    "\n",
    "    DAT = replace(DAT,missing=>NaN)\n",
    "\n",
    "    #### make new figure\n",
    "    fig = plt.figure(figsize=[10, 10])\n",
    "\n",
    "    #### set the projection\n",
    "    ax = plt.subplot(spl..., projection=ccrs.Robinson())\n",
    "\n",
    "    #### add title\n",
    "    plt.title(titulo, fontsize=18)\n",
    "\n",
    "    #### land and ocean backgrounds\n",
    "    ax.add_feature(feat.LAND,  color = [0.9, 0.9, 0.9])\n",
    "    ax.add_feature(feat.OCEAN, color = [0.85, 0.85, 0.85])\n",
    "    ax.coastlines(resolution = \"50m\", color = [0, 0, 0], lw = 0.5)\n",
    "\n",
    "    #### show data\n",
    "    im = ax.imshow(reverse(DAT', dims = 1), transform = ccrs.PlateCarree(), cmap = cm, vmin = dmin, vmax = dmax)\n",
    "\n",
    "    #### add colobar\n",
    "    clb = plt.colorbar(im,\n",
    "        pad = 0.05,\n",
    "        shrink = 0.7,\n",
    "        aspect = 30,\n",
    "        orientation = \"horizontal\",\n",
    "        extend = \"max\")\n",
    "\n",
    "    clb.ax.set_title(clbtitle)\n",
    "    ####plt.show()\n",
    "\n",
    "    return fig\n",
    "\n",
    "end"
   ],
   "metadata": {},
   "execution_count": null
  },
  {
   "outputs": [],
   "cell_type": "code",
   "source": [
    "p1 = plot_robin(\"a) Confounded Parameter Estimation\", q10_direct[:,:], \"Q10\",dmin=1, dmax=2.5);\n",
    "savefig(\"../figures/q10_confounded.pdf\",orientation=\"landscape\",bbox_inches=\"tight\")\n",
    "p2 = plot_robin(\"b) Scale Dependent Parameter Estimation\", q10_scape[:,:], \"Q10\",dmin=1,dmax=2.5);\n",
    "savefig(\"../figures/q10_scape.pdf\",orientation=\"landscape\",bbox_inches=\"tight\")"
   ],
   "metadata": {},
   "execution_count": null
  },
  {
   "outputs": [],
   "cell_type": "code",
   "source": [
    "##Construct a new cube\n",
    "ds = concatenateCubes(tair=world_tair, rb=rb_scape)\n",
    "# And compute the correlation between Air temperature and Base respiration\n",
    "using Statistics\n",
    "cor_tair_rb = mapslices(i->cor(eachcol(i)...),ds, dims=(\"Time\",\"Variable\"))\n",
    "\n",
    "q10_diff = q10_direct - q10_scape"
   ],
   "metadata": {},
   "execution_count": null
  },
  {
   "outputs": [],
   "cell_type": "code",
   "source": [
    "plot_robin(\"Correlation Tair and Rb\",cor_tair_rb[:,:],\"Coefficient\",dmin=-1.0, dmax=1.0)\n",
    "plot_robin(\"Ratio of Q10conv and Q10Scape\",q10_diff[:,:],\"Ratio\",dmin=-1.0,dmax=1.0);"
   ],
   "metadata": {},
   "execution_count": null
  },
  {
   "outputs": [],
   "cell_type": "markdown",
   "source": [
    "*This notebook was generated using [Literate.jl](https://github.com/fredrikekre/Literate.jl).*"
   ],
   "metadata": {}
  }
 ],
 "nbformat_minor": 3,
 "metadata": {
  "language_info": {
   "file_extension": ".jl",
   "mimetype": "application/julia",
   "name": "julia",
   "version": "1.2.0-rc3.0"
  },
  "kernelspec": {
   "name": "julia-1.2",
   "display_name": "Julia 1.2.0-rc3.0",
   "language": "julia"
  }
 },
 "nbformat": 4
}
