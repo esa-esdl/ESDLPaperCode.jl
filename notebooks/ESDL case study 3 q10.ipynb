{
 "cells": [
  {
   "outputs": [],
   "cell_type": "markdown",
   "source": [
    "## Case study 3: Model-parameter estimation in the ESDL\n",
    "### Example of the temperature sensitivity of ecosystem respiration\n",
    "\n",
    "#### Miguel D. Mahecha, Fabian Gans et al. (correspondence to: mmahecha@bgc-jena.mpg.de and fgans@bgc-jena.mpg.de)\n",
    "\n",
    "* Notebook to reproduce and understand examples in the paper *Earth system data cubes unravel global multivariate dynamics* (sub.).\n",
    "\n",
    "* The NB is written based on Julia 1.1\n",
    "\n",
    "* Normal text are explanations referring to notation and equations in the paper\n",
    "\n",
    "* `# comments in the code are itended explain specific aspects of the coding`\n",
    "\n",
    "* ### New steps in workflows are introduced with bold headers\n",
    "\n",
    "Sept 2019, Max Planck Institute for Biogeochemistry, Jena, Germany"
   ],
   "metadata": {}
  },
  {
   "outputs": [],
   "cell_type": "code",
   "source": [
    "# for plotting later on (need to be loaded first, to avoid conflicts)\n",
    "using PyCall, PyPlot, PlotUtils\n",
    "\n",
    "# for operating the Earth system data lab\n",
    "using ESDL, ESDLPlots\n",
    "\n",
    "# for parallel computing\n",
    "using Distributed\n",
    "\n",
    "# other relevant packages\n",
    "using Dates, Statistics, DataFrames, MultivariateStats"
   ],
   "metadata": {},
   "execution_count": null
  },
  {
   "outputs": [],
   "cell_type": "markdown",
   "source": [
    "### Select and prepare (subset/gapfill) an Earth system data cube\n",
    "\n",
    "We need to choose a cube and here select a 8-dayily, 0.25° resolution global cube. The cube name suggests it is chunked such that we have one time chunk and 720x1440 spatial chunks"
   ],
   "metadata": {}
  },
  {
   "outputs": [],
   "cell_type": "code",
   "source": [
    "cube_handle = Cube(\"../data/subcube\")\n",
    "\n",
    "# one cube for the tair respiration\n",
    "world_rec = subsetcube(cube_handle, variable = [\"air_temperature_2m\",\"terrestrial_ecosystem_respiration\"],\n",
    "    region = \"Europe\",\n",
    "    time = Date(\"2000-01-01\")..Date(\"2016-02-26\"))\n",
    "world_gpp = subsetcube(cube_handle, variable = [\"gross_primary_productivity\"],\n",
    "    region = \"Europe\",\n",
    "    time = Date(\"2000-01-01\")..Date(\"2016-02-26\"))\n",
    "world_h2o = subsetcube(cube_handle, variable = [\"surface_moisture\"],\n",
    "    region = \"Europe\",\n",
    "    time = Date(\"2000-01-01\")..Date(\"2016-02-26\"))\n",
    "\n",
    "world_rec = gapFillMSC(world_rec)\n",
    "world_gpp = gapFillMSC(world_gpp)\n",
    "world_h2o = gapFillMSC(world_h2o)"
   ],
   "metadata": {},
   "execution_count": null
  },
  {
   "outputs": [],
   "cell_type": "markdown",
   "source": [
    "### Function we need: moving average for decomposition"
   ],
   "metadata": {}
  },
  {
   "outputs": [],
   "cell_type": "code",
   "source": [
    "# Moving Average decomposes a singal into fast and slow oscillations\n",
    "# by caluclating a moving average over a window of points.\n",
    "# This creates a smoothed curve (slow osc.) which can be subtracted from the original singla,\n",
    "# to obtain fast oscillations separately.\n",
    "function movingAverage(xin, window)\n",
    "    Z     = length(xin)\n",
    "    # calculate moving average over window\n",
    "    # truncating windows for data points at beginning and end\n",
    "    movAv = map(1:Z) do i\n",
    "        if i <= window\n",
    "            mean(xin[1:i+window])\n",
    "        elseif i >= (Z-window)\n",
    "            mean(xin[i-window:end])\n",
    "        else\n",
    "            mean(xin[i-window:i+window])\n",
    "        end\n",
    "    end\n",
    "    # return slow oscillations in col 1 and fast oscillations in col 2\n",
    "    xout = hcat(movAv, xin .- movAv)\n",
    "    return xout\n",
    "end"
   ],
   "metadata": {},
   "execution_count": null
  },
  {
   "outputs": [],
   "cell_type": "markdown",
   "source": [
    "### Function we need: SCAPE Q10"
   ],
   "metadata": {}
  },
  {
   "outputs": [],
   "cell_type": "code",
   "source": [
    "function Q10decomposed(xout_p, xout_t, xin)\n",
    "    # xin: array with columns \"air_temperature_2m\",\"terrestrial_ecosystem_respiration\"\n",
    "\n",
    "    # simple Q10\n",
    "    tair = xin[:,1]\n",
    "    resp = xin[:,2]\n",
    "    tau  = (tair .- (273.15+15))./10\n",
    "    rho  = log.(resp)\n",
    "\n",
    "    # solve the regression\n",
    "    b    = cor(tau, rho)*std(rho)/std(tau)\n",
    "    a    = mean(rho) - b*mean(tau)\n",
    "\n",
    "    Q10  = exp(b)\n",
    "    Rb   = exp(a)\n",
    "\n",
    "    corQ10 = cor(tau,rho)^2\n",
    "\n",
    "    # signal decomposition; extraction of fast band\n",
    "    tau_deco = movingAverage(tau, 4)\n",
    "    rho_deco = movingAverage(rho, 4)\n",
    "\n",
    "    tau_slow = tau_deco[:, 1]\n",
    "    tau_fast = tau_deco[:, 2]\n",
    "    rho_slow = rho_deco[:, 1]\n",
    "    rho_fast = rho_deco[:, 2]\n",
    "\n",
    "    # EQ S5 - reference to the orginal SCAPE Q10 paper Mahecha et al. (2010)\n",
    "    # Q10 calculated on fast oscillations only\n",
    "    d    = cor(tau_fast, rho_fast)*std(rho_fast)/std(tau_fast)\n",
    "    c    = mean(rho_fast) - b*mean(tau_fast)\n",
    "    Q10_fast = exp(d)\n",
    "\n",
    "    # EQ S6: Influence of low frequency temperature on Rb\n",
    "    rho_sc = (tau_slow .+ mean(tau)) .* d\n",
    "\n",
    "    # EQ S7: Time varying estimate for Rb\n",
    "    rho_b  = rho_slow .+ mean(rho) .- rho_sc\n",
    "    Rb_sc  = exp.(rho_b)\n",
    "\n",
    "    Q10_delta = Q10_fast/Q10\n",
    "    Q10_diff  = Q10_fast-Q10\n",
    "    corQ10_fast = cor(tau_fast,rho_fast)^2\n",
    "\n",
    "    xout_p[1] = Rb\n",
    "    xout_p[2] = Q10\n",
    "    xout_p[3] = Q10_fast\n",
    "    xout_p[4] = Q10_delta\n",
    "    xout_p[5] = Q10_diff\n",
    "    xout_p[6] = corQ10\n",
    "    xout_p[7] = corQ10_fast\n",
    "\n",
    "    xout_t[:] = Rb_sc\n",
    "end"
   ],
   "metadata": {},
   "execution_count": null
  },
  {
   "outputs": [],
   "cell_type": "markdown",
   "source": [
    "### Phase lag function to understand the relation with low freq Rb"
   ],
   "metadata": {}
  },
  {
   "outputs": [],
   "cell_type": "code",
   "source": [
    "function phaselag(xout, xin)\n",
    "  NpY = 46\n",
    "  Ntot = 365\n",
    "  data = xin\n",
    "  data = map(i->ismissing(i) ? NaN : i,data)\n",
    "  x  = data[:, 3] .+ 1.5 .* abs.(minimum(data[:, 3]))\n",
    "  y  = data[:, 1] .+ 1.5 .* abs.(minimum(data[:, 1]))\n",
    "  dx = [diff(x);x[1]-x[end]]\n",
    "  X  = hcat(x,dx)\n",
    "  (b, c, interc) = llsq(X, y)\n",
    "  yp = x .* b .+ c .* dx .+ interc\n",
    "  R2 = var(yp)/var(y)\n",
    "  xout .= [b,c,atan(-c * 2 * pi / NpY/b) * Ntot / (2*pi),R2]\n",
    "end"
   ],
   "metadata": {},
   "execution_count": null
  },
  {
   "outputs": [],
   "cell_type": "markdown",
   "source": [
    "### We need two output cubes of different length"
   ],
   "metadata": {}
  },
  {
   "outputs": [],
   "cell_type": "code",
   "source": [
    "outAxis1 = OutDims(CategoricalAxis(\"Parameter\", [\"Rb\", \"Q10_allOsc\", \"Q10_fastOsc\", \"deltaQ10\", \"diffQ10\", \"R2_tau_rho\", \"R2_tau_fast_rho_fast\"]))\n",
    "outAxis2 = OutDims(\"Time\")"
   ],
   "metadata": {},
   "execution_count": null
  },
  {
   "outputs": [],
   "cell_type": "code",
   "source": [
    "q10,rb  = mapCube(Q10decomposed,\n",
    "             world_rec,\n",
    "             indims  = InDims(\"Time\", \"Variable\", filter = ESDL.DAT.AnyMissing()),\n",
    "             outdims = (outAxis1,outAxis2))"
   ],
   "metadata": {},
   "execution_count": null
  },
  {
   "outputs": [],
   "cell_type": "code",
   "source": [
    "saveCube(q10, \"../data/q10europe/\")\n",
    "saveCube(rb, \"../data/rbeurope/\")"
   ],
   "metadata": {},
   "execution_count": null
  },
  {
   "outputs": [],
   "cell_type": "code",
   "source": [
    "q10 = loadCube(\"../data/q10europe/\")"
   ],
   "metadata": {},
   "execution_count": null
  },
  {
   "outputs": [],
   "cell_type": "code",
   "source": [
    "plotMAP(q10, var = \"diffQ10\")"
   ],
   "metadata": {},
   "execution_count": null
  },
  {
   "outputs": [],
   "cell_type": "code",
   "source": [
    "q10.axes[1].values"
   ],
   "metadata": {},
   "execution_count": null
  },
  {
   "outputs": [],
   "cell_type": "markdown",
   "source": [
    "### Now we leave the data cube context and plot"
   ],
   "metadata": {}
  },
  {
   "outputs": [],
   "cell_type": "code",
   "source": [
    "data = q10[3, :, :]'\n",
    "data = replace(data, missing => NaN)\n",
    "data = replace(data, 1 => NaN)\n",
    "data = collect(data)\n",
    "q10_sc = data\n",
    "\n",
    "##Q10_norm = copy(data)\n",
    "Q10_scape = copy(data)\n",
    "##Q10_diff = copy(data)\n",
    "\n",
    "lons = collect(q10.axes[2].values)\n",
    "lats = collect(q10.axes[3].values)\n",
    "\n",
    "using PyPlot, PyCall\n",
    "\n",
    "@pyimport mpl_toolkits.basemap as basemap\n",
    "@pyimport numpy as np\n",
    "@pyimport matplotlib.colors as mcolors\n",
    "@pyimport matplotlib.pyplot as plter\n",
    "\n",
    "# Make room for the ridiculously large title.\n",
    "##plt.subplots_adjust(top=0.8)\n",
    "\n",
    "##f   = figure(\"pyplottest\", figsize=(10, 10))\n",
    "##ax1 = f[:add_subplot](3,1,1)\n",
    "mymap = basemap.Basemap(\n",
    "    llcrnrlon = minimum(lons)-0.25/2, llcrnrlat = maximum(lons)+0.25/2,\n",
    "    urcrnrlon = minimum(lats)-0.25/2, urcrnrlat = maximum(lats)+0.25/2,\n",
    "    resolution=\"l\")\n",
    "##mymap[:drawcoastlines](color=\"0.6\", linewidth=0.5)\n",
    "##mymap[:drawcountries](color=\"0.6\", linewidth=0.5)\n",
    "##mymap[:drawmapboundary](fill_color=\"aqua\")\n",
    "##mymap[:fillcontinents](color=\"0.8\", lake_color=\"white\",zorder=0)\n",
    "xx, yy = np.meshgrid(lons, lats)\n",
    "xi, yi = mymap(xx, yy)\n",
    "##mymap[:pcolormesh](xi, yi, Q10_diff, cmap = cmap, vmin=1, vmax=2)\n",
    "\n",
    "cmap = get_cmap(\"viridis_r\")\n",
    "##cmap = get_cmap(\"RdYlBu\")\n",
    "##mdata  = maskoceans(xi, yi, data, resolution = 'h', grid = 0.25, inlands=true)\n",
    "mymap[:imshow](reverse(Q10_scape, dims=(1)),cmap=cmap, vmin=0, vmax=3)\n",
    "\n",
    "mymap[:drawmapboundary](fill_color=[0.2, 0.2, 0.2])\n",
    "cbar = mymap[:colorbar](location = \"bottom\", extend = \"max\")\n",
    "cbar[:ax][:tick_params](labelsize = 10)\n",
    "cbar[:set_label](\"Q10scape\")\n",
    "##ax1[:get_figure]()\n",
    "##ax1[:set_title](\"TREND: Covariance of precipitation vs temperature\")\n",
    "##plter.savefig(\"/Net/Groups/BGI/scratch/mmahecha/test.png\", dpi=1000)"
   ],
   "metadata": {},
   "execution_count": null
  },
  {
   "outputs": [],
   "cell_type": "code",
   "source": [
    "data = q10[3, :, :]'\n",
    "data = replace(data, missing => NaN)\n",
    "data = replace(data, 1 => NaN)\n",
    "data = collect(data)\n",
    "q10_sc = data\n",
    "\n",
    "##Q10_norm = copy(data)\n",
    "Q10_scape = copy(data)\n",
    "##Q10_diff = copy(data)\n",
    "\n",
    "lons = collect(q10.axes[2].values)\n",
    "lats = collect(q10.axes[3].values)"
   ],
   "metadata": {},
   "execution_count": null
  },
  {
   "outputs": [],
   "cell_type": "code",
   "source": [
    "# compute the mean seasonal cycles\n",
    "msc_rb  = getMSC(rb)\n",
    "msc_gpp = getMSC(world_gpp)\n",
    "msc_h2o = getMSC(world_h2o)"
   ],
   "metadata": {},
   "execution_count": null
  },
  {
   "outputs": [],
   "cell_type": "code",
   "source": [
    "new_var_axis = CategoricalAxis(\"new_var_axis\", [\"msc_rb\", \"msc_gpp\", \"msc_h2o\"])\n",
    "\n",
    "# we generate a new cube that has both results\n",
    "merged_cube  = concatenateCubes([msc_rb, msc_gpp, msc_h2o], new_var_axis)"
   ],
   "metadata": {},
   "execution_count": null
  },
  {
   "outputs": [],
   "cell_type": "code",
   "source": [
    "Rb_lag = mapCube(phaselag, merged_cube,\n",
    "    indims  = InDims(\"MSC\", \"new_var\", filter = ESDL.DAT.AnyMissing()),\n",
    "    outdims = OutDims(CategoricalAxis(\"Parameter\", [\"b\", \"c\", \"lag\", \"R2\"])))"
   ],
   "metadata": {},
   "execution_count": null
  },
  {
   "outputs": [],
   "cell_type": "code",
   "source": [
    "Rb_lag_h2o = mapCube(phaselag, merged_cube,\n",
    "    indims  = InDims(\"MSC\", \"new_var\", filter = ESDL.DAT.AnyMissing()),\n",
    "    outdims = OutDims(CategoricalAxis(\"Parameter\", [\"b\", \"c\", \"lag\", \"R2\"])))"
   ],
   "metadata": {},
   "execution_count": null
  },
  {
   "outputs": [],
   "cell_type": "code",
   "source": [
    "GPP_lag_h2o = mapCube(phaselag, merged_cube,\n",
    "    indims  = InDims(\"MSC\", \"new_var\", filter = ESDL.DAT.AnyMissing()),\n",
    "    outdims = OutDims(CategoricalAxis(\"Parameter\", [\"b\", \"c\", \"lag\", \"R2\"])))"
   ],
   "metadata": {},
   "execution_count": null
  },
  {
   "outputs": [],
   "cell_type": "code",
   "source": [
    "test = merged_cube[:, 90, 70, :]\n",
    "plot(test[:, 1], test[:, 2])"
   ],
   "metadata": {},
   "execution_count": null
  },
  {
   "outputs": [],
   "cell_type": "code",
   "source": [
    "data = Rb_lag[3, :, :]'\n",
    "data = replace(data, missing => NaN)\n",
    "data = replace(data, 1 => NaN)\n",
    "data = collect(data)\n",
    "timelag = copy(data)\n",
    "\n",
    "lons = collect(q10.axes[2].values)\n",
    "lats = collect(q10.axes[3].values)\n",
    "\n",
    "\n",
    "using PyPlot, PyCall\n",
    "\n",
    "# Set up orthographic map projection with perspective of satellite looking down at 45N, 100W.\n",
    "# Use low resolution coastlines.\n",
    "\n",
    "##f   = figure(\"pyplot_subplot_touching\", figsize=(10, 10))\n",
    "##ax1 = f[:add_subplot](3,1,1)\n",
    "mymap = basemap.Basemap(\n",
    "    llcrnrlon = minimum(lons)-0.25/2, llcrnrlat = maximum(lons)+0.25/2,\n",
    "    urcrnrlon = minimum(lats)-0.25/2, urcrnrlat = maximum(lats)+0.25/2,\n",
    "    resolution=\"l\")\n",
    "##mymap[:drawcoastlines](color=\"0.6\", linewidth=0.5)\n",
    "##mymap[:drawcountries](color=\"0.6\", linewidth=0.5)\n",
    "##mymap[:drawmapboundary](fill_color=\"aqua\")\n",
    "##mymap[:fillcontinents](color=\"0.8\", lake_color=\"white\",zorder=0)\n",
    "xx, yy = np.meshgrid(lons, lats)\n",
    "xi, yi = mymap(xx, yy)\n",
    "##mymap[:pcolormesh](xi, yi, Q10_diff, cmap = cmap, vmin=1, vmax=2)\n",
    "\n",
    "##cmap = get_cmap(\"inferno_r\")\n",
    "cmap = get_cmap(\"Spectral\")\n",
    "##mdata  = maskoceans(xi, yi, data, resolution = 'h', grid = 0.25, inlands=true)\n",
    "mymap[:imshow](reverse(timelag, dims=(1)),cmap=cmap, vmin = -10, vmax = 10)\n",
    "\n",
    "mymap[:drawmapboundary](fill_color=[0.2, 0.2, 0.2])\n",
    "cbar = mymap[:colorbar](location = \"bottom\", extend = \"both\")\n",
    "cbar[:ax][:tick_params](labelsize = 10)\n",
    "cbar[:set_label](\"Time lag in days\")\n",
    "##ax1[:get_figure]()\n",
    "##ax1[:set_title](\"TREND: Covariance of precipitation vs temperature\")\n",
    "##plter.savefig(\"/Net/Groups/BGI/scratch/mmahecha/test.png\", dpi=1000)"
   ],
   "metadata": {},
   "execution_count": null
  },
  {
   "outputs": [],
   "cell_type": "markdown",
   "source": [
    "### Q10 - Example Europe"
   ],
   "metadata": {}
  },
  {
   "outputs": [],
   "cell_type": "code",
   "source": [
    "plotMAP"
   ],
   "metadata": {},
   "execution_count": null
  },
  {
   "outputs": [],
   "cell_type": "code",
   "source": [
    "using Plots; gr()"
   ],
   "metadata": {},
   "execution_count": null
  },
  {
   "outputs": [],
   "cell_type": "code",
   "source": [
    "o[1, :, :] |> Plots.heatmap"
   ],
   "metadata": {},
   "execution_count": null
  },
  {
   "outputs": [],
   "cell_type": "code",
   "source": [
    "plotMAP(q10_eu, symmetric = TRUE)"
   ],
   "metadata": {},
   "execution_count": null
  },
  {
   "outputs": [],
   "cell_type": "markdown",
   "source": [
    "### Q10 - Example World"
   ],
   "metadata": {}
  },
  {
   "outputs": [],
   "cell_type": "code",
   "source": [
    "using ProgressMeter\n",
    "@loadOrGenerate q10_world=>\"WorldQ10\" begin\n",
    "    q10_world = mapCube(Q10decomposed, world,indims=InDims(\"Time\",\"Variable\",miss=ESDL.NaNMissing()), outdims=OutDims(outAxisQ10,miss=ESDL.NaNMissing()))\n",
    "end\n",
    "plotMAP(q10_world, dmax=5)"
   ],
   "metadata": {},
   "execution_count": null
  },
  {
   "outputs": [],
   "cell_type": "code",
   "source": [
    "rm(\"worldq10param.nc\")\n",
    "exportcube(q10_world,\"worldq10param.nc\")"
   ],
   "metadata": {},
   "execution_count": null
  },
  {
   "outputs": [],
   "cell_type": "code",
   "source": [
    "# Q10 (all oscillations)\n",
    "display(\"Q10 (all oscillations)\")\n",
    "display(plotMAP(q10_world, dmax=4, param=2))\n",
    "\n",
    "# Q10 (fast oscillations)\n",
    "display(\"Q10 (fast oscillations)\")\n",
    "display(plotMAP(q10_world, dmax=3, param=3))\n",
    "\n",
    "# delta Q10 (Q10fast/Q10)\n",
    "display(\"delta Q10 (Q10fast/Q10)\")\n",
    "display(plotMAP(q10_world, dmax=4, param=4))"
   ],
   "metadata": {},
   "execution_count": null
  },
  {
   "outputs": [],
   "cell_type": "code",
   "source": [
    "# R^2 tau/rho\n",
    "display(\"R^2 tau/rho\")\n",
    "display(plotMAP(q10_world, dmax=1, param=5))\n",
    "\n",
    "# R^2 tau_fast/rho_fast\n",
    "display(\"R^2 tau_fast/rho_fast\")\n",
    "display(plotMAP(q10_world, dmax=1, param=6))\n",
    "\n",
    "# Rb\n",
    "##display(\"Rb\")\n",
    "##display(plotMAP(q10_world, dmax=5, param=1))"
   ],
   "metadata": {},
   "execution_count": null
  },
  {
   "outputs": [],
   "cell_type": "code",
   "source": [
    "using PyPlot\n",
    "ioff() ## Interactive plotting OFF, necessary for inline plotting in IJulia\n",
    "\n",
    "fig = figure(\"test_map\", figsize=(10,10)) ## Not strictly required\n",
    "ax = axes() ## Not strictly required\n",
    "\n",
    "from __future__ import division\n",
    "import numpy as np\n",
    "from mpl_toolkits.basemap import Basemap\n",
    "\n",
    "def mapformat():\n",
    "\n",
    "  m = Basemap(projection='robin', lon_0=0,resolution='c')\n",
    "  # resolution c, l, i, h, f in that order\n",
    "\n",
    "  m.drawmapboundary(fill_color='white', zorder=-1)\n",
    "  m.fillcontinents(color='0.8', lake_color='white', zorder=0)\n",
    "\n",
    "  m.drawcoastlines(color='0.6', linewidth=0.5)\n",
    "  m.drawcountries(color='0.6', linewidth=0.5)\n",
    "\n",
    "  m.drawparallels(np.arange(-90.,91.,30.), labels=[1,0,0,1], dashes=[1,1], linewidth=0.25, color='0.5')\n",
    "  m.drawmeridians(np.arange(0., 360., 60.), labels=[1,0,0,1], dashes=[1,1], linewidth=0.25, color='0.5')\n",
    "\n",
    "  return m"
   ],
   "metadata": {},
   "execution_count": null
  },
  {
   "outputs": [],
   "cell_type": "markdown",
   "source": [
    "*This notebook was generated using [Literate.jl](https://github.com/fredrikekre/Literate.jl).*"
   ],
   "metadata": {}
  }
 ],
 "nbformat_minor": 3,
 "metadata": {
  "language_info": {
   "file_extension": ".jl",
   "mimetype": "application/julia",
   "name": "julia",
   "version": "1.2.0-rc3.0"
  },
  "kernelspec": {
   "name": "julia-1.2",
   "display_name": "Julia 1.2.0-rc3.0",
   "language": "julia"
  }
 },
 "nbformat": 4
}
